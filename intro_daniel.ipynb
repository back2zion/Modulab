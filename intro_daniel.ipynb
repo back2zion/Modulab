{
 "cells": [
  {
   "cell_type": "markdown",
   "metadata": {},
   "source": [
    "# This is Daniel!"
   ]
  },
  {
   "cell_type": "markdown",
   "metadata": {},
   "source": [
    "## 이 페이지에 저에 대해 드러내보도록 하리다."
   ]
  },
  {
   "cell_type": "markdown",
   "metadata": {},
   "source": [
    "1. 어디에서 왔나\n",
    "2. 왜 왔나\n",
    "3. 어디로 가나"
   ]
  },
  {
   "cell_type": "markdown",
   "metadata": {},
   "source": [
    "* 사진은...    \n",
    "    - 넣고싶지만, 넣을수 없는     \n",
    "        + 이 불편한 진실     "
   ]
  },
  {
   "cell_type": "markdown",
   "metadata": {},
   "source": [
    "## 1. 어디에서 왔나"
   ]
  },
  {
   "cell_type": "markdown",
   "metadata": {},
   "source": [
    "###       GN-z11"
   ]
  },
  {
   "cell_type": "markdown",
   "metadata": {},
   "source": [
    "## 2. 왜 왔나"
   ]
  },
  {
   "cell_type": "markdown",
   "metadata": {},
   "source": [
    "### 널리 사람을 이롭게 하고자 하는 홍익인간 정신을 21세기에 다시 퍼뜨리고 싶어서 이 땅에 왔소만...   그리 녹녹하지 않군요. 자본주의사회라는게. 허허허 ... -)"
   ]
  },
  {
   "cell_type": "markdown",
   "metadata": {},
   "source": [
    "## 3. 어디로 가나"
   ]
  },
  {
   "cell_type": "markdown",
   "metadata": {},
   "source": [
    "### 바람따라 구름따라"
   ]
  },
  {
   "cell_type": "markdown",
   "metadata": {},
   "source": [
    "# p.s. 더 알고 싶은게 있다면"
   ]
  },
  {
   "cell_type": "markdown",
   "metadata": {},
   "source": [
    "Link: [인스타그램](https://www.instagram.com/kwaksuhyen/?hl=ko \"instagram link\")"
   ]
  },
  {
   "cell_type": "code",
   "execution_count": null,
   "metadata": {},
   "outputs": [],
   "source": []
  }
 ],
 "metadata": {
  "kernelspec": {
   "display_name": "Python 3",
   "language": "python",
   "name": "python3"
  },
  "language_info": {
   "codemirror_mode": {
    "name": "ipython",
    "version": 3
   },
   "file_extension": ".py",
   "mimetype": "text/x-python",
   "name": "python",
   "nbconvert_exporter": "python",
   "pygments_lexer": "ipython3",
   "version": "3.7.8"
  }
 },
 "nbformat": 4,
 "nbformat_minor": 4
}
